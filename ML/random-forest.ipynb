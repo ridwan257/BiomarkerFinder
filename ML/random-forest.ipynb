{
 "cells": [
  {
   "cell_type": "code",
   "execution_count": 53,
   "metadata": {},
   "outputs": [],
   "source": [
    "import sys\n",
    "sys.path.append('/Users/reuben204/Reuben/Biomarker Finding/libexpr/algorithms')\n",
    "import importlib"
   ]
  },
  {
   "cell_type": "code",
   "execution_count": 54,
   "metadata": {},
   "outputs": [],
   "source": [
    "import pandas as pd\n",
    "import numpy as np\n",
    "from collections import Counter, defaultdict\n",
    "import matplotlib.pyplot as plt\n",
    "from scipy.stats import gaussian_kde\n",
    "from scipy.ndimage import gaussian_filter1d\n",
    "from itertools import product\n",
    "from tqdm import tqdm"
   ]
  },
  {
   "cell_type": "code",
   "execution_count": 55,
   "metadata": {},
   "outputs": [],
   "source": [
    "from boruta import BorutaPy\n",
    "from sklearn.preprocessing import StandardScaler\n",
    "from sklearn.linear_model import LogisticRegression, LogisticRegressionCV\n",
    "from sklearn.ensemble import RandomForestClassifier\n",
    "from sklearn.svm import SVC, LinearSVC\n",
    "from sklearn.feature_selection import RFE\n",
    "from sklearn.model_selection import LeaveOneOut, StratifiedKFold, ParameterGrid\n",
    "from sklearn.utils import resample\n",
    "from sklearn.metrics import precision_score, recall_score, f1_score, confusion_matrix, roc_auc_score, \\\n",
    "    precision_recall_curve, auc, average_precision_score\n",
    "from sklearn.inspection import permutation_importance"
   ]
  },
  {
   "cell_type": "code",
   "execution_count": 56,
   "metadata": {},
   "outputs": [],
   "source": [
    "import rutils as rt"
   ]
  },
  {
   "cell_type": "code",
   "execution_count": 57,
   "metadata": {},
   "outputs": [],
   "source": [
    "importlib.reload(rt);"
   ]
  },
  {
   "cell_type": "markdown",
   "metadata": {},
   "source": [
    "# Utility"
   ]
  },
  {
   "cell_type": "code",
   "execution_count": 58,
   "metadata": {},
   "outputs": [],
   "source": [
    "def evaluateRFOOB(\n",
    "    X, y, feature_index=None, params:dict=None, cv=10, \n",
    "    seed=None, metric=f1_score, use_proba=False,\n",
    "    n_jobs=1, verbose=0\n",
    "):\n",
    "    rnd = np.random.default_rng(seed)\n",
    "    seed_list = rnd.integers(0, 2**30, cv)\n",
    "\n",
    "    param_dict = {} if params is None else params.copy()\n",
    "    param_dict.update({'oob_score':True if use_proba else metric})\n",
    "\n",
    "    if feature_index is None:\n",
    "        X_subset = X\n",
    "    else:\n",
    "        X_subset = X[:, feature_index]\n",
    "    \n",
    "    score_array = np.zeros(cv)\n",
    "    for i, s in enumerate(seed_list):\n",
    "        rf_model = RandomForestClassifier(**param_dict, random_state=s, n_jobs=n_jobs)\n",
    "        rf_model.fit(X_subset, y)\n",
    "        \n",
    "        if use_proba:\n",
    "            y_pred_proba = rf_model.oob_decision_function_[:, 1]\n",
    "            score_array[i] = metric(y, y_pred_proba)\n",
    "        else:\n",
    "            score_array[i] = rf_model.oob_score_\n",
    "            \n",
    "        if verbose==1:\n",
    "            rt.iterLog(i)\n",
    "    \n",
    "    return score_array"
   ]
  },
  {
   "cell_type": "markdown",
   "metadata": {},
   "source": [
    "# DATA LOADING"
   ]
  },
  {
   "cell_type": "code",
   "execution_count": 59,
   "metadata": {},
   "outputs": [
    {
     "name": "stdout",
     "output_type": "stream",
     "text": [
      "True\n",
      "gene_names.size=101\n"
     ]
    }
   ],
   "source": [
    "edata_df = pd.read_csv('../mutual-data/merged_edata.tsv', sep='\\t', index_col=0)\n",
    "mdata_df = pd.read_csv('../mutual-data/merged_mdata.tsv', sep='\\t', index_col=0)\n",
    "print( np.all(edata_df.columns == mdata_df.index) )\n",
    "\n",
    "with open('../wgcna/common_genes.txt') as f:\n",
    "\tfilter_genes = f.readlines()\n",
    "\n",
    "gene_names = np.array([l for line in filter_genes if (l:=line.strip()) != ''])\n",
    "print(f'{gene_names.size=}')\n",
    "\n",
    "edata_df = edata_df.loc[gene_names,]\n",
    "X = edata_df.T.to_numpy()\n",
    "y = np.int_(mdata_df.condition == 'SC')"
   ]
  },
  {
   "cell_type": "code",
   "execution_count": 60,
   "metadata": {},
   "outputs": [
    {
     "data": {
      "text/plain": [
       "Counter({0: 33, 1: 14})"
      ]
     },
     "execution_count": 60,
     "metadata": {},
     "output_type": "execute_result"
    }
   ],
   "source": [
    "# im = plt.imshow(np.corrcoef(X), cmap=\"coolwarm\", interpolation=\"nearest\")\n",
    "# plt.colorbar(im)\n",
    "Counter(y)"
   ]
  },
  {
   "cell_type": "markdown",
   "metadata": {},
   "source": [
    "# BASIC RF"
   ]
  },
  {
   "cell_type": "code",
   "execution_count": 61,
   "metadata": {},
   "outputs": [
    {
     "data": {
      "text/plain": [
       "0.6086956521739131"
      ]
     },
     "execution_count": 61,
     "metadata": {},
     "output_type": "execute_result"
    }
   ],
   "source": [
    "rf = RandomForestClassifier(\n",
    "    n_estimators=400,\n",
    "    class_weight='balanced',\n",
    "    oob_score=f1_score,\n",
    "    random_state=123\n",
    ")\n",
    "rf.fit(X, y)\n",
    "rf.oob_score_"
   ]
  },
  {
   "cell_type": "code",
   "execution_count": 62,
   "metadata": {},
   "outputs": [
    {
     "data": {
      "text/plain": [
       "162"
      ]
     },
     "execution_count": 62,
     "metadata": {},
     "output_type": "execute_result"
    }
   ],
   "source": [
    "param_grid = {\n",
    "    'n_estimators': [200, 400, 600],\n",
    "    'max_depth': [3, 5, None],\n",
    "    'max_features': ['sqrt', 'log2', 0.2],\n",
    "    'min_samples_split': [2, 3, 4],\n",
    "    'class_weight' : ['balanced'],\n",
    "    'criterion' : ['gini', 'entropy']\n",
    "}\n",
    "len(ParameterGrid(param_grid))"
   ]
  },
  {
   "cell_type": "code",
   "execution_count": 63,
   "metadata": {},
   "outputs": [
    {
     "name": "stderr",
     "output_type": "stream",
     "text": [
      "100%|██████████| 162/162 [1:01:06<00:00, 22.63s/it]\n"
     ]
    }
   ],
   "source": [
    "score_arr = []\n",
    "param_bucket = []\n",
    "best_score = 0\n",
    "best_param = None\n",
    "for i, param in enumerate(tqdm(\n",
    "    ParameterGrid(param_grid), ncols=len(ParameterGrid(param_grid)), leave=True, dynamic_ncols=True\n",
    ")):\n",
    "    score = evaluateRFOOB(X, y, params=param, cv=80, seed=i, use_proba=True, metric=roc_auc_score, n_jobs=4)\n",
    "    score_arr.append(score)\n",
    "    param_bucket.append(param)\n",
    "\n",
    "    if score.mean() > best_score:\n",
    "        best_score = score.mean()\n",
    "        best_param = param\n",
    "\n",
    "score_arr = np.array(score_arr)"
   ]
  },
  {
   "cell_type": "code",
   "execution_count": 67,
   "metadata": {},
   "outputs": [
    {
     "data": {
      "text/plain": [
       "<matplotlib.lines.Line2D at 0x159636b40>"
      ]
     },
     "execution_count": 67,
     "metadata": {},
     "output_type": "execute_result"
    },
    {
     "data": {
      "image/png": "[encoded data removed]",
      "text/plain": [
       "<Figure size 1152x288 with 1 Axes>"
      ]
     },
     "metadata": {
      "needs_background": "light"
     },
     "output_type": "display_data"
    }
   ],
   "source": [
    "plt.figure(figsize=(16, 4))\n",
    "# plt.axvline( X.shape[1]+1, ls='--', alpha=0.8)\n",
    "plt.errorbar(\n",
    "    x = range(162),\n",
    "    y = score_arr.mean(1), yerr=score_arr.std(axis=1, ddof=1),\n",
    "    fmt='o', ecolor='red', alpha=0.4, capsize=3\n",
    ")\n",
    "plt.plot(range(162), score_arr.mean(1), c='blue')\n",
    "plt.axvline(50,ls='--', alpha=0.8)"
   ]
  },
  {
   "cell_type": "code",
   "execution_count": 66,
   "metadata": {},
   "outputs": [
    {
     "name": "stdout",
     "output_type": "stream",
     "text": [
      "[False False False False False False False False False False False False\n",
      " False False False False False False False False False False False False\n",
      " False False False False False False False False False False False False\n",
      " False False False False False False False False False False False False\n",
      " False False  True False False  True False False False False False False\n",
      " False False False False False False False False False False False False\n",
      " False False False False False False False False False False False False\n",
      " False False False False False False False False False False False False\n",
      " False False False False False False False False False False False False\n",
      " False False False False False False False False False False False False\n",
      " False False False False False False False False False False False False\n",
      " False False False False False False False False False False False False\n",
      " False False False False False False False False False False False False\n",
      " False False False False False False]\n",
      "(array([50, 53]),)\n"
     ]
    }
   ],
   "source": [
    "passed_idx = score_arr.mean(1) > score_arr.mean(1).max() - score_arr.var(axis=1, ddof=0)\n",
    "print(passed_idx)\n",
    "print(np.where(passed_idx==1))"
   ]
  },
  {
   "cell_type": "code",
   "execution_count": 80,
   "metadata": {},
   "outputs": [
    {
     "name": "stdout",
     "output_type": "stream",
     "text": [
      "0.7439529220779221\n",
      "{'class_weight': 'balanced', 'criterion': 'gini', 'max_depth': 5, 'max_features': 0.2, 'min_samples_split': 3, 'n_estimators': 600}\n",
      "0.7439529220779221 0.7438041125541126\n"
     ]
    },
    {
     "data": {
      "text/plain": [
       "{'class_weight': 'balanced',\n",
       " 'criterion': 'gini',\n",
       " 'max_depth': 5,\n",
       " 'max_features': 0.2,\n",
       " 'min_samples_split': 3,\n",
       " 'n_estimators': 600}"
      ]
     },
     "execution_count": 80,
     "metadata": {},
     "output_type": "execute_result"
    }
   ],
   "source": [
    "print(best_score)\n",
    "print(best_param)\n",
    "print(score_arr[50].mean(), score_arr[53].mean())\n",
    "param_bucket[50]"
   ]
  },
  {
   "cell_type": "code",
   "execution_count": 81,
   "metadata": {},
   "outputs": [],
   "source": [
    "final_param = {'class_weight': 'balanced',\n",
    " 'criterion': 'gini',\n",
    " 'max_depth': 5,\n",
    " 'max_features': 0.2,\n",
    " 'min_samples_split': 3,\n",
    " 'n_estimators': 600}"
   ]
  },
  {
   "cell_type": "code",
   "execution_count": 82,
   "metadata": {},
   "outputs": [
    {
     "data": {
      "text/plain": [
       "0.6013175230566535"
      ]
     },
     "execution_count": 82,
     "metadata": {},
     "output_type": "execute_result"
    }
   ],
   "source": [
    "evaluateRFOOB(X, y, params=final_param, seed=12, use_proba=False, metric=f1_score).mean()"
   ]
  },
  {
   "cell_type": "markdown",
   "metadata": {},
   "source": [
    "# Boruta"
   ]
  },
  {
   "cell_type": "code",
   "execution_count": 84,
   "metadata": {},
   "outputs": [],
   "source": [
    "rf_boruta = RandomForestClassifier(\n",
    "    **final_param,\n",
    "    n_jobs=4,\n",
    "    random_state=726\n",
    ")"
   ]
  },
  {
   "cell_type": "code",
   "execution_count": 85,
   "metadata": {},
   "outputs": [
    {
     "name": "stderr",
     "output_type": "stream",
     "text": [
      "100%|██████████| 200/200 [35:57<00:00, 10.79s/it]\n"
     ]
    }
   ],
   "source": [
    "n_bootstraps = 200\n",
    "gene_selection_counts = np.zeros(X.shape[1])\n",
    "gene_selection_rank = np.zeros((n_bootstraps, X.shape[1]))\n",
    "\n",
    "rnd = rt.set_seed(37)\n",
    "for i in tqdm(range(n_bootstraps)):\n",
    "    X_boot, _, y_boot, _ = rt.bootstrap_resample(X, y, rnd_engine=rnd, oob=False)\n",
    "     \n",
    "    boruta = BorutaPy(\n",
    "        estimator=rf_boruta,\n",
    "        n_estimators=\"auto\",\n",
    "        alpha=0.1,\n",
    "        max_iter=100,\n",
    "        verbose=0\n",
    "    )\n",
    "    boruta.fit(X_boot, y_boot)\n",
    "    selected_mask = boruta.support_\n",
    "    gene_selection_counts += selected_mask.astype(int)\n",
    "    gene_selection_rank[i, :] = boruta.ranking_.copy()"
   ]
  },
  {
   "cell_type": "code",
   "execution_count": 90,
   "metadata": {},
   "outputs": [],
   "source": [
    "mean_rank = gene_selection_rank.mean(axis=0)\n",
    "median_rank = np.median(gene_selection_rank, axis=0)\n",
    "indices = np.argsort(median_rank)"
   ]
  },
  {
   "cell_type": "code",
   "execution_count": 91,
   "metadata": {},
   "outputs": [
    {
     "data": {
      "text/plain": [
       "array(['YIPF2', 'PUF60', 'RBM10', 'HMG20B', 'SYMPK', 'HRAS', 'SMPD1',\n",
       "       'DDX41', 'ZNF444', 'SYBU', 'NUMA1', 'GPAA1', 'CLTB', 'TXNRD1',\n",
       "       'TXLNA', 'GCLC', 'ATP5F1D', 'ME1', 'EML3', 'GCLM', 'ASF1A', 'ETFB',\n",
       "       'NCOR2', 'RFXANK', 'ALDH3A1', 'CDC14B', 'PIR', 'PRMT1', 'RAB1B',\n",
       "       'SLC25A11', 'RALGAPA1P1', 'IFT25', 'MFSD10', 'CHPF2', 'POLR2E',\n",
       "       'PRDX1', 'MICALL1', 'PRKCSH', 'ECH1', 'NKIRAS2', 'PLSCR3',\n",
       "       'SLC7A11', 'BBLN', 'ARFGAP2', 'GBF1', 'LAMB2', 'PLXNB2', 'BAG6',\n",
       "       'GPX2', 'HTATIP2', 'CTDNEP1', 'GPKOW', 'MAP2K2', 'GSS', 'EED',\n",
       "       'UQCRC1', 'GTF2F1', 'PPP1CA', 'HYOU1', 'TAX1BP3', 'SUPT6H', 'GPC1',\n",
       "       'SCAP', 'MGRN1', 'ZNF322', 'PRSS8', 'TMEM214', 'MPST', 'NQO1',\n",
       "       'YIPF3', 'FGFR3', 'TMEM222', 'SNRPB', 'SEC61A1', 'AURKAIP1',\n",
       "       'SND1', 'DAG1', 'TMEM109', 'GPS2', 'TM2D1', 'POLR2K', 'FARSA',\n",
       "       'SNRPA', 'NDUFV1', 'SLC38A6', 'AP2S1', 'MRPL12', 'ZSWIM8', 'CD81',\n",
       "       'GPS1', 'RNF40', 'AGTPBP1', 'BCKDK', 'OS9', 'RB1CC1', 'PIGF',\n",
       "       'SNX2', 'GTF3C3', 'ANO10', 'ACTN4', 'MGAT1'], dtype='<U10')"
      ]
     },
     "execution_count": 91,
     "metadata": {},
     "output_type": "execute_result"
    }
   ],
   "source": [
    "gene_names[indices]"
   ]
  },
  {
   "cell_type": "code",
   "execution_count": 167,
   "metadata": {},
   "outputs": [
    {
     "name": "stderr",
     "output_type": "stream",
     "text": [
      "100%|██████████| 101/101 [1:00:49<00:00, 36.13s/it]\n"
     ]
    }
   ],
   "source": [
    "score_arr_gene = []\n",
    "for i in tqdm(range(1, X.shape[1]+1)):\n",
    "    f_idx = indices[:i]\n",
    "    score_arr_gene.append(evaluateRFOOB(\n",
    "        X, y, feature_index=f_idx,\n",
    "        params=best_param,\n",
    "        n_jobs=4, use_proba=True, metric=rt.pr_auc, cv=100, seed=314\n",
    "    ))\n",
    "score_arr_gene = np.array(score_arr_gene)"
   ]
  },
  {
   "cell_type": "code",
   "execution_count": 195,
   "metadata": {},
   "outputs": [
    {
     "data": {
      "text/plain": [
       "Text(0.5, 1.0, 'PR AUC of RF Model for N Genes')"
      ]
     },
     "execution_count": 195,
     "metadata": {},
     "output_type": "execute_result"
    },
    {
     "data": {
      "image/png": "[encoded data removed]",
      "text/plain": [
       "<Figure size 792x216 with 1 Axes>"
      ]
     },
     "metadata": {
      "needs_background": "light"
     },
     "output_type": "display_data"
    }
   ],
   "source": [
    "plt.figure(figsize=(11, 3))\n",
    "plt.axvline(14, ls='--', alpha=0.7, lw=1, c='black')\n",
    "plt.errorbar(\n",
    "    x = range(1, 102),\n",
    "    y = score_arr_gene.mean(1), yerr=score_arr_gene.std(axis=1, ddof=1),\n",
    "    fmt='o', ecolor='red', alpha=0.4, capsize=3\n",
    ")\n",
    "plt.plot(range(1, 102), score_arr_gene.mean(1), c='blue')\n",
    "plt.xlabel('Total Genes (N)', fontsize=14)\n",
    "plt.ylabel('PR AUC Score', fontsize=14)\n",
    "plt.xlim(0, 102)\n",
    "plt.xticks(sorted([1]+list(range(10, 101, 10))+[14]))\n",
    "plt.title(\"PR AUC of RF Model for N Genes\", fontsize=16)"
   ]
  },
  {
   "cell_type": "code",
   "execution_count": 175,
   "metadata": {},
   "outputs": [
    {
     "data": {
      "text/plain": [
       "(array([13]),)"
      ]
     },
     "execution_count": 175,
     "metadata": {},
     "output_type": "execute_result"
    }
   ],
   "source": [
    "np.where(score_arr_gene.mean(1) > score_arr_gene.mean(1).max() - score_arr_gene.var(axis=1, ddof=1))"
   ]
  },
  {
   "cell_type": "code",
   "execution_count": 144,
   "metadata": {},
   "outputs": [
    {
     "name": "stdout",
     "output_type": "stream",
     "text": [
      "YIPF2\n",
      "PUF60\n",
      "RBM10\n",
      "HMG20B\n",
      "SYMPK\n",
      "HRAS\n",
      "SMPD1\n",
      "DDX41\n",
      "ZNF444\n",
      "SYBU\n",
      "NUMA1\n",
      "GPAA1\n",
      "CLTB\n",
      "TXNRD1\n"
     ]
    }
   ],
   "source": [
    "rt.writeln( gene_names[indices[:14]] )"
   ]
  },
  {
   "cell_type": "code",
   "execution_count": 160,
   "metadata": {},
   "outputs": [
    {
     "name": "stdout",
     "output_type": "stream",
     "text": [
      "Iteration - 399\n",
      "0.5842670644572818 0.00038623924536467636\n"
     ]
    }
   ],
   "source": [
    "score_oob = evaluateRFOOB(\n",
    "    X, y, feature_index=indices[:14],\n",
    "    params=final_param,\n",
    "    n_jobs=-1, use_proba=False, metric=f1_score, cv=400, seed=13420, verbose=1\n",
    ")\n",
    "print()\n",
    "print(score_oob.mean(), score_oob.var(ddof=1))"
   ]
  },
  {
   "cell_type": "code",
   "execution_count": 163,
   "metadata": {},
   "outputs": [
    {
     "data": {
      "text/plain": [
       "0.5833333333333334"
      ]
     },
     "execution_count": 163,
     "metadata": {},
     "output_type": "execute_result"
    }
   ],
   "source": [
    "rt.evaluateLOO(X, y, indices[:14], rf_boruta, use_proba=False, metric=f1_score)"
   ]
  },
  {
   "cell_type": "code",
   "execution_count": 152,
   "metadata": {},
   "outputs": [
    {
     "data": {
      "image/png": "[encoded data removed]",
      "text/plain": [
       "<Figure size 216x360 with 1 Axes>"
      ]
     },
     "metadata": {
      "needs_background": "light"
     },
     "output_type": "display_data"
    }
   ],
   "source": [
    "plt.figure(figsize=(3, 5))\n",
    "plt.boxplot(score_oob, widths=0.5)\n",
    "plt.scatter(np.random.uniform(0.75, 1.25, size=400), score_oob, s=4, alpha=0.4)\n",
    "plt.xticks([])\n",
    "plt.ylabel('PR AUC Value', fontsize=14)\n",
    "plt.show()"
   ]
  },
  {
   "cell_type": "code",
   "execution_count": null,
   "metadata": {},
   "outputs": [],
   "source": []
  },
  {
   "cell_type": "markdown",
   "metadata": {},
   "source": [
    "# Gene Importance"
   ]
  },
  {
   "cell_type": "code",
   "execution_count": 115,
   "metadata": {},
   "outputs": [],
   "source": [
    "rf_model_final = RandomForestClassifier(\n",
    "    **final_param,\n",
    "    n_jobs=4,\n",
    "    random_state=345069\n",
    ")"
   ]
  },
  {
   "cell_type": "code",
   "execution_count": 121,
   "metadata": {},
   "outputs": [
    {
     "name": "stdout",
     "output_type": "stream",
     "text": [
      "Iteration - 999\n",
      "0.7790093615513961 0.01954677182532269\n"
     ]
    }
   ],
   "source": [
    "n_boot = 1000\n",
    "rnd = np.random.default_rng(37335)\n",
    "coef_arr = []\n",
    "score_arr = []\n",
    "\n",
    "for i in range(n_boot):\n",
    "    X_boot, X_oob, y_boot, y_oob = rt.bootstrap_resample(X[:, indices[:14]], y, rnd_engine=rnd)\n",
    "\n",
    "    rf_model_final.fit(X_boot, y_boot)\n",
    "    coef_arr.append(rf_model_final.feature_importances_)\n",
    "    rt.iterLog(i)\n",
    "\n",
    "    # y_oob_pred_proba = model.predict_proba(X_oob_std)[:, 1]\n",
    "    score_arr.append(\n",
    "        rt.pr_auc(y_oob, rf_model_final.predict_proba(X_oob)[:, 1])\n",
    "    )\n",
    "\n",
    "coef_arr = np.array(coef_arr)\n",
    "score_arr = np.array(score_arr)\n",
    "print()\n",
    "print(score_arr.mean(), score_arr.var(ddof=1))\n",
    "# score_arr"
   ]
  },
  {
   "cell_type": "code",
   "execution_count": 118,
   "metadata": {},
   "outputs": [],
   "source": [
    "import seaborn as sns"
   ]
  },
  {
   "cell_type": "code",
   "execution_count": null,
   "metadata": {},
   "outputs": [
    {
     "name": "stderr",
     "output_type": "stream",
     "text": [
      "/var/folders/fj/p5kbwjtn3jng5py2h7l_1_mh0000gn/T/ipykernel_1820/3840079760.py:10: FutureWarning: \n",
      "\n",
      "Passing `palette` without assigning `hue` is deprecated and will be removed in v0.14.0. Assign the `y` variable to `hue` and set `legend=False` for the same effect.\n",
      "\n",
      "  sns.barplot(x=gene_importance_sorted.values, y=gene_importance_sorted.index, palette='Set2')\n"
     ]
    },
    {
     "data": {
      "image/png": "[encoded data removed]",
      "text/plain": [
       "<Figure size 432x360 with 1 Axes>"
      ]
     },
     "metadata": {
      "needs_background": "light"
     },
     "output_type": "display_data"
    }
   ],
   "source": [
    "gene_importance = pd.Series(\n",
    "    coef_arr.mean(0),\n",
    "    index=gene_names[indices[:14]]\n",
    ")\n",
    "gene_importance_sorted = gene_importance.reindex(gene_importance.abs().sort_values(ascending=False).index)\n",
    "# colors = ['Protective' if val < 0 else 'Risk' for val in gene_importance_sorted]\n",
    "\n",
    "\n",
    "plt.figure(figsize=(6, 5))\n",
    "sns.barplot(x=gene_importance_sorted.values, y=gene_importance_sorted.index, palette='Set2')\n",
    "plt.grid(axis=\"y\", linestyle=\"--\", alpha=0.4)\n",
    "\n",
    "\n",
    "plt.xlabel(\"Gene Importance\", fontsize=14)\n",
    "plt.ylabel(\"Genes\", fontsize=14)\n",
    "plt.title(\"Gene Mean Importance in RF-Boruta Model\", fontsize=16)\n",
    "plt.axvline(x=0, color='black', linestyle='--', linewidth=1)\n",
    "plt.grid(axis='x', linestyle='--', alpha=0.6)\n",
    "\n",
    "\n",
    "plt.show()\n"
   ]
  }
 ],
 "metadata": {
  "kernelspec": {
   "display_name": "Python 3",
   "language": "python",
   "name": "python3"
  },
  "language_info": {
   "codemirror_mode": {
    "name": "ipython",
    "version": 3
   },
   "file_extension": ".py",
   "mimetype": "text/x-python",
   "name": "python",
   "nbconvert_exporter": "python",
   "pygments_lexer": "ipython3",
   "version": "3.12.5"
  }
 },
 "nbformat": 4,
 "nbformat_minor": 2
}
