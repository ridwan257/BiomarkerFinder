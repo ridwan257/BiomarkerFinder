{
 "cells": [
  {
   "cell_type": "code",
   "execution_count": 1,
   "metadata": {},
   "outputs": [],
   "source": [
    "import sys\n",
    "sys.path.append('/Users/reuben204/Reuben/Biomarker Finding/libexpr/algorithms')\n",
    "import importlib"
   ]
  },
  {
   "cell_type": "code",
   "execution_count": 2,
   "metadata": {},
   "outputs": [],
   "source": [
    "import pandas as pd\n",
    "import numpy as np\n",
    "from collections import Counter, defaultdict\n",
    "import matplotlib.pyplot as plt\n",
    "from scipy.stats import gaussian_kde\n",
    "from scipy.ndimage import gaussian_filter1d\n",
    "from itertools import product\n",
    "from tqdm import tqdm"
   ]
  },
  {
   "cell_type": "code",
   "execution_count": 3,
   "metadata": {},
   "outputs": [],
   "source": [
    "from sklearn.pipeline import Pipeline\n",
    "from sklearn.preprocessing import StandardScaler\n",
    "from sklearn.linear_model import LogisticRegression, LogisticRegressionCV\n",
    "from sklearn.ensemble import RandomForestClassifier\n",
    "from sklearn.svm import SVC, LinearSVC\n",
    "from sklearn.feature_selection import RFE\n",
    "from sklearn.model_selection import LeaveOneOut, StratifiedKFold, cross_val_score\n",
    "from sklearn.model_selection import RandomizedSearchCV, StratifiedShuffleSplit, ParameterGrid\n",
    "from sklearn.utils import resample\n",
    "from sklearn.metrics import precision_score, recall_score, f1_score, confusion_matrix, roc_auc_score, \\\n",
    "    precision_recall_curve, auc, average_precision_score\n",
    "from sklearn.inspection import permutation_importance"
   ]
  },
  {
   "cell_type": "code",
   "execution_count": 4,
   "metadata": {},
   "outputs": [],
   "source": [
    "import rutils as rt"
   ]
  },
  {
   "cell_type": "code",
   "execution_count": 5,
   "metadata": {},
   "outputs": [],
   "source": [
    "importlib.reload(rt);"
   ]
  },
  {
   "cell_type": "markdown",
   "metadata": {},
   "source": [
    "# Data Loading"
   ]
  },
  {
   "cell_type": "code",
   "execution_count": 6,
   "metadata": {},
   "outputs": [
    {
     "name": "stdout",
     "output_type": "stream",
     "text": [
      "True\n",
      "gene_names.size=101\n"
     ]
    }
   ],
   "source": [
    "edata_df = pd.read_csv('../mutual-data/merged_edata.tsv', sep='\\t', index_col=0)\n",
    "mdata_df = pd.read_csv('../mutual-data/merged_mdata.tsv', sep='\\t', index_col=0)\n",
    "print( np.all(edata_df.columns == mdata_df.index) )\n",
    "\n",
    "with open('../wgcna/common_genes.txt') as f:\n",
    "\tfilter_genes = f.readlines()\n",
    "\n",
    "gene_names = np.array([l for line in filter_genes if (l:=line.strip()) != ''])\n",
    "print(f'{gene_names.size=}')\n",
    "\n",
    "edata_df = edata_df.loc[gene_names,]\n",
    "X = edata_df.T.to_numpy()\n",
    "y = np.int_(mdata_df.condition == 'SC')"
   ]
  },
  {
   "cell_type": "code",
   "execution_count": 7,
   "metadata": {},
   "outputs": [
    {
     "data": {
      "text/plain": [
       "array([1.00000000e-03, 4.64158883e-03, 2.15443469e-02, 1.00000000e-01,\n",
       "       4.64158883e-01, 2.15443469e+00, 1.00000000e+01, 4.64158883e+01,\n",
       "       2.15443469e+02, 1.00000000e+03])"
      ]
     },
     "execution_count": 7,
     "metadata": {},
     "output_type": "execute_result"
    }
   ],
   "source": [
    "np.logspace(-3, 3, 10)"
   ]
  },
  {
   "cell_type": "markdown",
   "metadata": {},
   "source": [
    "# LR"
   ]
  },
  {
   "cell_type": "code",
   "execution_count": 8,
   "metadata": {},
   "outputs": [
    {
     "data": {
      "text/plain": [
       "20"
      ]
     },
     "execution_count": 8,
     "metadata": {},
     "output_type": "execute_result"
    }
   ],
   "source": [
    "param_dict = {\n",
    "    'C': [0.01, 0.1, 1, 10],\n",
    "    'l1_ratio': [0.25, 0.4, 0.5, 0.6, 0.75]\n",
    "}\n",
    "len(ParameterGrid(param_dict))"
   ]
  },
  {
   "cell_type": "code",
   "execution_count": 9,
   "metadata": {},
   "outputs": [],
   "source": [
    "# lr = LogisticRegression(\n",
    "#     penalty='elasticnet', solver='saga',\n",
    "#     class_weight='balanced',\n",
    "#     max_iter=10_000, random_state=123\n",
    "# )"
   ]
  },
  {
   "cell_type": "code",
   "execution_count": 54,
   "metadata": {},
   "outputs": [
    {
     "name": "stdout",
     "output_type": "stream",
     "text": [
      "Iteration - 19"
     ]
    }
   ],
   "source": [
    "score_arr_param = []\n",
    "param_bucket = []\n",
    "for i, param in enumerate(ParameterGrid(param_dict)):\n",
    "    lr = LogisticRegression(\n",
    "        penalty='elasticnet', solver='saga',\n",
    "        class_weight='balanced',\n",
    "        max_iter=10000, random_state=674414,\n",
    "        **param\n",
    "    )\n",
    "    boot, oob = rt.evaluateBootstrap(X, y, lr, n_boot=400, metric=rt.pr_auc, use_proba=True, seed=379858+i)\n",
    "    score_arr_param.append(oob)\n",
    "    param_bucket.append(param.copy())\n",
    "    rt.iterLog(i)\n",
    "\n",
    "score_arr_param = np.array(score_arr_param)"
   ]
  },
  {
   "cell_type": "code",
   "execution_count": null,
   "metadata": {},
   "outputs": [],
   "source": []
  },
  {
   "cell_type": "code",
   "execution_count": 79,
   "metadata": {},
   "outputs": [
    {
     "data": {
      "image/png": "[encoded data removed]",
      "text/plain": [
       "<Figure size 864x216 with 1 Axes>"
      ]
     },
     "metadata": {
      "needs_background": "light"
     },
     "output_type": "display_data"
    }
   ],
   "source": [
    "plt.figure(figsize=(12, 3))\n",
    "plt.axvline(5, alpha=0.6, ls='--', c='black', lw=1)\n",
    "rt.errorPlot(score_arr_param, axis=1)\n",
    "plt.xticks(range(20), [(p['C'], p['l1_ratio']) for p in param_bucket], rotation=30, fontsize=10)\n",
    "plt.title('Hyperparameter Selection for LR', fontsize=16)\n",
    "plt.xlabel('Hyperparameter value pairs (C, lr_ratio)', fontsize=14)\n",
    "plt.ylabel('PR AUC Score', fontsize=14)\n",
    "plt.show()"
   ]
  },
  {
   "cell_type": "code",
   "execution_count": null,
   "metadata": {},
   "outputs": [
    {
     "name": "stdout",
     "output_type": "stream",
     "text": [
      "[ 6  5 15 12 19 11 13 17 18 14 16  7 10  8  0  2  1  9  3  4]\n",
      "[0.73833808 0.73654295 0.73583713 0.73482316 0.73418542 0.7333139\n",
      " 0.73306374 0.73124848 0.7282001  0.72067872 0.72005864 0.71726492\n",
      " 0.71533881 0.68644118 0.64794319 0.64700461 0.64699661 0.64616167\n",
      " 0.64532533 0.6452925 ]\n"
     ]
    },
    {
     "data": {
      "text/plain": [
       "(array([ 5,  6,  7, 10, 11, 12, 13, 14, 15, 16, 17, 18, 19]),)"
      ]
     },
     "execution_count": 19,
     "metadata": {},
     "output_type": "execute_result"
    }
   ],
   "source": [
    "# print(np.where(score_arr.mean(1)>score_arr.mean(1).max()))\n",
    "print(np.argsort(score_arr_param.mean(1))[::-1])\n",
    "print(score_arr_param.mean(1)[np.argsort(score_arr_param.mean(1))[::-1]])\n",
    "np.where(score_arr_param.mean(1) > score_arr_param.mean(1).max() - score_arr_param.var(1, ddof=1))"
   ]
  },
  {
   "cell_type": "code",
   "execution_count": 23,
   "metadata": {},
   "outputs": [
    {
     "name": "stdout",
     "output_type": "stream",
     "text": [
      "{'C': 0.1, 'l1_ratio': 0.25}\n"
     ]
    }
   ],
   "source": [
    "print(param_bucket[5])\n",
    "best_param = param_bucket[13]"
   ]
  },
  {
   "cell_type": "code",
   "execution_count": 24,
   "metadata": {},
   "outputs": [],
   "source": [
    "lr_model = LogisticRegression(\n",
    "    penalty='elasticnet', solver='saga',\n",
    "    class_weight='balanced',\n",
    "    max_iter=10000, random_state=58,\n",
    "    **best_param\n",
    "    # C=0.1, l1_ratio=0.25\n",
    ")"
   ]
  },
  {
   "cell_type": "code",
   "execution_count": 25,
   "metadata": {},
   "outputs": [
    {
     "name": "stdout",
     "output_type": "stream",
     "text": [
      "Iteration - 999\n",
      "0.7376279149676793 0.02312322844609073\n"
     ]
    }
   ],
   "source": [
    "n_boot = 1000\n",
    "rnd = np.random.default_rng(37335)\n",
    "coef_arr = []\n",
    "score_arr = []\n",
    "for i in range(n_boot):\n",
    "    X_boot, X_oob, y_boot, y_oob = rt.bootstrap_resample(X, y, rnd_engine=rnd)\n",
    "    scaler = StandardScaler()\n",
    "    X_boot_scaled = scaler.fit_transform(X_boot)\n",
    "    X_oob_scaled = scaler.transform(X_oob)\n",
    "\n",
    "    lr_model.fit(X_boot_scaled, y_boot)\n",
    "    coef_arr.append(lr_model.coef_[0])\n",
    "    rt.iterLog(i)\n",
    "\n",
    "    # y_oob_pred_proba = model.predict_proba(X_oob_std)[:, 1]\n",
    "    score_arr.append(\n",
    "        rt.pr_auc(y_oob, lr_model.predict_proba(X_oob_scaled)[:, 1])\n",
    "    )\n",
    "\n",
    "coef_arr = np.array(coef_arr)\n",
    "score_arr = np.array(score_arr)\n",
    "print()\n",
    "print(score_arr.mean(), score_arr.var(ddof=1))\n",
    "# score_arr"
   ]
  },
  {
   "cell_type": "code",
   "execution_count": 26,
   "metadata": {},
   "outputs": [
    {
     "data": {
      "text/plain": [
       "array(['ALDH3A1', 'PIR', 'MICALL1', 'GPAA1', 'RFXANK', 'ZNF444', 'CLTB',\n",
       "       'TXNRD1', 'NUMA1', 'HYOU1', 'RNF40', 'ETFB', 'NCOR2', 'HRAS',\n",
       "       'HMG20B', 'FGFR3', 'NDUFV1'], dtype='<U10')"
      ]
     },
     "execution_count": 26,
     "metadata": {},
     "output_type": "execute_result"
    }
   ],
   "source": [
    "median_coef = np.median(np.abs(coef_arr), axis=0)\n",
    "gene_names[median_coef!=0]"
   ]
  },
  {
   "cell_type": "code",
   "execution_count": 102,
   "metadata": {},
   "outputs": [
    {
     "data": {
      "text/plain": [
       "(0.7441680115635998, 0.015768911235349205)"
      ]
     },
     "execution_count": 102,
     "metadata": {},
     "output_type": "execute_result"
    }
   ],
   "source": [
    "boot, oob = rt.evaluateBootstrap(X, y, lr_model, median_coef!=0, n_boot=1000, use_proba=False, metric=f1_score, seed=37335)\n",
    "oob.mean(), oob.var(ddof=1)"
   ]
  },
  {
   "cell_type": "code",
   "execution_count": 105,
   "metadata": {},
   "outputs": [
    {
     "data": {
      "text/plain": [
       "0.8103641380141052"
      ]
     },
     "execution_count": 105,
     "metadata": {},
     "output_type": "execute_result"
    }
   ],
   "source": [
    "rt.evaluateLOO(X, y, median_coef!=0, lr_model, use_proba=True, metric=rt.pr_auc)"
   ]
  },
  {
   "cell_type": "code",
   "execution_count": 28,
   "metadata": {},
   "outputs": [
    {
     "data": {
      "text/plain": [
       "array([-0.7761949 , -0.28346705,  0.07549627,  0.12546989,  0.02772657,\n",
       "        0.05958871,  0.69665834, -0.08197036,  0.24597086,  0.04389465,\n",
       "       -0.08310332,  0.1570904 ,  0.19781888,  0.40043555,  0.29862895,\n",
       "        0.19046383, -0.15130951])"
      ]
     },
     "execution_count": 28,
     "metadata": {},
     "output_type": "execute_result"
    }
   ],
   "source": [
    "np.median(coef_arr, axis=0)[median_coef!=0]"
   ]
  },
  {
   "cell_type": "code",
   "execution_count": 29,
   "metadata": {},
   "outputs": [
    {
     "data": {
      "text/plain": [
       "array([-0.76584549, -0.32552916,  0.17437886,  0.24275547,  0.15664913,\n",
       "        0.23383767,  0.68034498, -0.17875169,  0.29822202,  0.17610169,\n",
       "       -0.21185225,  0.20450733,  0.27114101,  0.45323711,  0.3923285 ,\n",
       "        0.24496578, -0.28774184])"
      ]
     },
     "execution_count": 29,
     "metadata": {},
     "output_type": "execute_result"
    }
   ],
   "source": [
    "coef_arr.mean(0)[median_coef!=0]"
   ]
  },
  {
   "cell_type": "code",
   "execution_count": 30,
   "metadata": {},
   "outputs": [],
   "source": [
    "import seaborn as sns"
   ]
  },
  {
   "cell_type": "code",
   "execution_count": null,
   "metadata": {},
   "outputs": [
    {
     "data": {
      "image/png": "[encoded data removed]",
      "text/plain": [
       "<Figure size 432x360 with 1 Axes>"
      ]
     },
     "metadata": {
      "needs_background": "light"
     },
     "output_type": "display_data"
    }
   ],
   "source": [
    "gene_importance = pd.Series(\n",
    "    coef_arr.mean(0)[median_coef!=0],\n",
    "    index=gene_names[median_coef!=0]\n",
    ")\n",
    "gene_importance_sorted = gene_importance.reindex(gene_importance.abs().sort_values(ascending=False).index)\n",
    "colors = ['Protective' if val < 0 else 'Risk' for val in gene_importance_sorted]\n",
    "\n",
    "\n",
    "plt.figure(figsize=(6, 5))\n",
    "sns.barplot(x=gene_importance_sorted.values, y=gene_importance_sorted.index, hue=colors, palette='Set2', legend=False)\n",
    "plt.grid(axis=\"y\", linestyle=\"--\", alpha=0.85)\n",
    "\n",
    "\n",
    "plt.xlabel(\"Gene Importance\", fontsize=14)\n",
    "plt.ylabel(\"Genes\", fontsize=14)\n",
    "plt.title(\"Gene Importance in LR Model\", fontsize=16)\n",
    "plt.axvline(x=0, color='black', linestyle='--', linewidth=1)\n",
    "plt.grid(axis='x', linestyle='--', alpha=0.85)\n",
    "\n",
    "\n",
    "plt.show()\n"
   ]
  },
  {
   "cell_type": "code",
   "execution_count": 80,
   "metadata": {},
   "outputs": [],
   "source": [
    "# rt.writeln(gene_importance.index)"
   ]
  },
  {
   "cell_type": "code",
   "execution_count": 99,
   "metadata": {},
   "outputs": [
    {
     "data": {
      "image/png": "[encoded data removed]",
      "text/plain": [
       "<Figure size 216x360 with 1 Axes>"
      ]
     },
     "metadata": {
      "needs_background": "light"
     },
     "output_type": "display_data"
    }
   ],
   "source": [
    "plt.figure(figsize=(3, 5))\n",
    "vp = plt.violinplot(oob, widths=0.5, showmeans=False)\n",
    "for violin in vp['bodies']:\n",
    "    # violin.set_facecolor('tomato')  # Set fill color\n",
    "    # violin.set_edgecolor('black')   # Set border color\n",
    "    violin.set_alpha(0.3)  \n",
    "# vp['cbars'].set_visible(False) \n",
    "for part in ['cbars', 'cmins', 'cmaxes']:\n",
    "    vp[part].set_visible(False)\n",
    "\n",
    "plt.scatter(np.random.normal(1, 0.07, 1000), oob, s=16, alpha=0.10, c='tomato')\n",
    "plt.scatter([1], [oob.mean()], marker='*', s=400, label=\"Mean\", c='blue')\n",
    "plt.xticks([])\n",
    "plt.ylabel('PR AUC Value', fontsize=14)\n",
    "plt.show()"
   ]
  },
  {
   "cell_type": "code",
   "execution_count": null,
   "metadata": {},
   "outputs": [],
   "source": [
    "## MEAN RANK"
   ]
  },
  {
   "cell_type": "code",
   "execution_count": 415,
   "metadata": {},
   "outputs": [
    {
     "data": {
      "text/plain": [
       "array(['ALDH3A1', 'CLTB', 'HRAS', 'HMG20B', 'PIR', 'NUMA1', 'NDUFV1',\n",
       "       'NCOR2', 'FGFR3', 'GPAA1', 'ZNF444', 'RNF40', 'MICALL1', 'ETFB',\n",
       "       'TXNRD1', 'ECH1', 'SYBU', 'HYOU1', 'RFXANK', 'SMPD1', 'POLR2E',\n",
       "       'ASF1A', 'TAX1BP3', 'RB1CC1', 'CHPF2', 'ACTN4', 'SLC25A11',\n",
       "       'PRMT1', 'PRKCSH', 'RBM10'], dtype='<U10')"
      ]
     },
     "execution_count": 415,
     "metadata": {},
     "output_type": "execute_result"
    }
   ],
   "source": [
    "max_rank = np.argsort(np.mean(np.abs(coef_arr), axis=0))[::-1]\n",
    "gene_names[max_rank][:30]"
   ]
  },
  {
   "cell_type": "code",
   "execution_count": 386,
   "metadata": {},
   "outputs": [
    {
     "name": "stdout",
     "output_type": "stream",
     "text": [
      "Iteration - 29"
     ]
    }
   ],
   "source": [
    "score_arr = []\n",
    "for i in range(1, 30):\n",
    "    fidx = max_rank[:i]\n",
    "    boot, oob = rt.evaluateBootstrap(X, y, lr_model, fidx, n_boot=100, use_proba=True, metric=rt.pr_auc, seed=i)\n",
    "    score_arr.append(oob)\n",
    "    rt.iterLog(i)\n",
    "score_arr = np.array(score_arr)"
   ]
  },
  {
   "cell_type": "code",
   "execution_count": 387,
   "metadata": {},
   "outputs": [
    {
     "data": {
      "image/png": "[encoded data removed]",
      "text/plain": [
       "<Figure size 864x288 with 1 Axes>"
      ]
     },
     "metadata": {
      "needs_background": "light"
     },
     "output_type": "display_data"
    }
   ],
   "source": [
    "plt.figure(figsize=(12, 4))\n",
    "rt.errorPlot(score_arr, axis=1)"
   ]
  },
  {
   "cell_type": "code",
   "execution_count": 393,
   "metadata": {},
   "outputs": [
    {
     "name": "stdout",
     "output_type": "stream",
     "text": [
      "[0.85828893 0.8534739  0.86345915 0.84743835 0.82934754 0.82445158\n",
      " 0.80310139 0.82443242]\n"
     ]
    },
    {
     "data": {
      "text/plain": [
       "array([False, False,  True,  True,  True,  True, False, False, False,\n",
       "       False, False, False, False, False, False, False, False, False,\n",
       "       False, False, False, False, False, False, False, False, False,\n",
       "       False, False])"
      ]
     },
     "execution_count": 393,
     "metadata": {},
     "output_type": "execute_result"
    }
   ],
   "source": [
    "print(score_arr.mean(1)[2:10])\n",
    "score_arr.mean(1) > score_arr.mean(1).max() - score_arr.var(ddof=1)"
   ]
  },
  {
   "cell_type": "code",
   "execution_count": 330,
   "metadata": {},
   "outputs": [
    {
     "data": {
      "text/plain": [
       "array([-0.87861848, -0.26615908,  0.42869162,  0.36610975,  0.38080299,\n",
       "        0.23260585,  1.01554638,  0.        ,  0.53083123,  0.26877739,\n",
       "       -0.465509  ,  0.38592822,  0.47406964,  0.35484865,  0.57867919,\n",
       "        0.52856765, -1.11886872])"
      ]
     },
     "execution_count": 330,
     "metadata": {},
     "output_type": "execute_result"
    }
   ],
   "source": [
    "# X_subset = StandardScaler().fit_transform(X[:, median_coef!=0])\n",
    "# lr_model.fit(X_subset, y)\n",
    "# lr_model.coef_[0]"
   ]
  }
 ],
 "metadata": {
  "kernelspec": {
   "display_name": "Python 3",
   "language": "python",
   "name": "python3"
  },
  "language_info": {
   "codemirror_mode": {
    "name": "ipython",
    "version": 3
   },
   "file_extension": ".py",
   "mimetype": "text/x-python",
   "name": "python",
   "nbconvert_exporter": "python",
   "pygments_lexer": "ipython3",
   "version": "3.12.5"
  }
 },
 "nbformat": 4,
 "nbformat_minor": 2
}
